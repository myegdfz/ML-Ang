{
 "cells": [
  {
   "cell_type": "code",
   "execution_count": 1,
   "metadata": {
    "collapsed": false
   },
   "outputs": [
    {
     "name": "stdout",
     "output_type": "stream",
     "text": [
      "(47L, 3L)\n[[  2104      3 399900]\n [  1600      3 329900]\n [  2400      3 369000]\n [  1416      2 232000]\n [  3000      4 539900]]\n(47L, 2L)\n(47L, 1L)\n[[2104    3]\n [1600    3]\n [2400    3]\n [1416    2]\n [3000    4]]\n[[399900]\n [329900]\n [369000]\n [232000]\n [539900]]\n"
     ]
    }
   ],
   "source": [
    "#本文是多元线性回归模型\n",
    "import numpy as np\n",
    "import matplotlib.pyplot as plt\n",
    "\n",
    "#load data from file\n",
    "#导入数据，并且观察一下\n",
    "def load_data(filename):\n",
    "    data = []\n",
    "    file = open(filename)\n",
    "    for line in file.readlines():\n",
    "        lineArr = line.strip().split(',')\n",
    "        col_num = len(lineArr)\n",
    "        temp = []\n",
    "        for i in xrange(col_num):\n",
    "            temp.append(int(lineArr[i]))\n",
    "        data.append(temp)\n",
    "    return np.array(data)\n",
    "\n",
    "    \n",
    "data = load_data('ex1data2.txt')\n",
    "print data.shape\n",
    "print data[:5]\n",
    "\n",
    "X = data[:,:-1]\n",
    "y = data[:,-1:]\n",
    "print X.shape\n",
    "print y.shape\n",
    "print X[:5]\n",
    "print y[:5]\n",
    "\n"
   ]
  },
  {
   "cell_type": "code",
   "execution_count": 2,
   "metadata": {},
   "outputs": [],
   "source": [
    "#feature normalize,Scale features and set them to zero mean\n",
    "#定义一下特征缩放函数，因为每个特征的取值范围不同，且差异很大\n",
    "def featureNormalize(X):\n",
    "    X_norm = X\n",
    "    mu = np.zeros((1,X.shape[1]))\n",
    "    sigma = np.zeros((1,X.shape[1]))\n",
    "    \n",
    "    mu = np.mean(X,axis=0) #mean value of every feature\n",
    "    sigma = np.std(X,axis=0)#std of every feature\n",
    "    X_norm = (X - mu) / sigma\n",
    "    \n",
    "    return X_norm,mu,sigma \n",
    "    \n",
    "\n",
    "\n",
    "    \n",
    "    \n",
    "    \n",
    "\n"
   ]
  },
  {
   "cell_type": "code",
   "execution_count": 10,
   "metadata": {},
   "outputs": [
    {
     "name": "stdout",
     "output_type": "stream",
     "text": [
      "run gradient descent\nTheta computed from gradient descent:  [[ 340227.89154751]\n [ 107315.97282379]\n [  -4447.3463406 ]]\n"
     ]
    }
   ],
   "source": [
    "X_norm,mu,sigma = featureNormalize(data[:,:-1])\n",
    "num_train = X.shape[0]\n",
    "one = np.ones((num_train,1))\n",
    "X = np.hstack((one,X_norm))#add one\n",
    "W = np.zeros((X.shape[1],1)) #初始化全0，that is ok\n",
    "#计算cost\n",
    "def compute_cost(X_test,y_test,theta):\n",
    "    num_X = X_test.shape[0]\n",
    "    cost = 0.5 * np.sum(np.square(X_test.dot(theta) - y_test)) / num_X\n",
    "    return cost\n",
    "#计算梯度下降\n",
    "def gradient_descent(X_test,y_test,theta,alpha = 0.005,iters = 1500):\n",
    "    J_history = []\n",
    "    num_X = X_test.shape[0]\n",
    "    for i in xrange(iters):\n",
    "        theta = theta - alpha * X_test.T.dot(X_test.dot(theta) - y_test) / num_X\n",
    "        cost = compute_cost(X_test,y_test,theta)\n",
    "        J_history.append(cost)\n",
    "    return theta,J_history\n",
    "#测试一下结果\n",
    "print 'run gradient descent'\n",
    "theta,J_history = gradient_descent(X,y,W)\n",
    "print 'Theta computed from gradient descent: ',theta\n"
   ]
  },
  {
   "cell_type": "code",
   "execution_count": 11,
   "metadata": {},
   "outputs": [
    {
     "data": {
      "image/png": "[encoded data removed]",
      "text/plain": [
       "<matplotlib.figure.Figure at 0x7ab36d8>"
      ]
     },
     "metadata": {},
     "output_type": "display_data"
    }
   ],
   "source": [
    "#plot the j_cost,绘制训练的cost曲线,可以调节学习率\n",
    "import matplotlib.pyplot as plt\n",
    "plt.plot(J_history,color = 'b')\n",
    "plt.xlabel('iters')\n",
    "plt.ylabel('j_cost')\n",
    "plt.title('cost variety')\n",
    "plt.show()\n"
   ]
  },
  {
   "cell_type": "code",
   "execution_count": 12,
   "metadata": {},
   "outputs": [
    {
     "name": "stdout",
     "output_type": "stream",
     "text": [
      "Predicted price of a 1650 sq-ft, 3 br house (using gradient descent)\n[[ 293365.7762653]]\n"
     ]
    }
   ],
   "source": [
    "#predict (Note :normalize the feature with the train sets)\n",
    "#预测一下，记得使用训练集的均值和方差去进行特征缩放\n",
    "X_t = ([[1650,3]] - mu) / sigma\n",
    "X_test = np.hstack((np.ones((1,1)),X_t))\n",
    "predict = X_test.dot(theta)\n",
    "print 'Predicted price of a 1650 sq-ft, 3 br house (using gradient descent)'\n",
    "print predict\n"
   ]
  },
  {
   "cell_type": "code",
   "execution_count": 13,
   "metadata": {},
   "outputs": [
    {
     "name": "stdout",
     "output_type": "stream",
     "text": [
      "(47L, 3L)\n(47L, 1L)\n"
     ]
    },
    {
     "name": "stdout",
     "output_type": "stream",
     "text": [
      "Theta computed from the normal equations:\n[[ 89597.90954435]\n [   139.21067402]\n [ -8738.01911278]]\n"
     ]
    }
   ],
   "source": [
    "#compute the gradient by using Normal Equations  \n",
    "#without feature scaling and gradient descent\n",
    "#直接使用公式求解最佳theta,不用梯度下降法\n",
    "XX = data[:,:-1]\n",
    "yy = data[:,-1:]\n",
    "m = XX.shape[0]\n",
    "\n",
    "one = np.ones((m,1))\n",
    "XX = np.hstack((one,data[:,:-1]))\n",
    "print XX.shape\n",
    "print yy.shape\n",
    "\n",
    "def normalEquation(X_train,y_train):\n",
    "    w = np.zeros((X_train.shape[0],1))\n",
    "    w = ((np.linalg.pinv(X_train.T.dot(X_train))).dot(X_train.T)).dot(y_train)\n",
    "    return w\n",
    "w = normalEquation(XX,yy)\n",
    "print 'Theta computed from the normal equations:'\n",
    "print w"
   ]
  },
  {
   "cell_type": "code",
   "execution_count": 14,
   "metadata": {},
   "outputs": [
    {
     "name": "stdout",
     "output_type": "stream",
     "text": [
      "Predicted price of a 1650 sq-ft, 3 br house (using normal equations)\n[[ 293081.46433506]]\n"
     ]
    }
   ],
   "source": [
    "#predict price\n",
    "price = np.dot(np.array([[1,1650,3]]),w)\n",
    "print 'Predicted price of a 1650 sq-ft, 3 br house (using normal equations)'\n",
    "print price\n"
   ]
  },
  {
   "cell_type": "code",
   "execution_count": null,
   "metadata": {},
   "outputs": [],
   "source": []
  }
 ],
 "metadata": {
  "kernelspec": {
   "display_name": "Python 2",
   "language": "python",
   "name": "python2"
  },
  "language_info": {
   "codemirror_mode": {
    "name": "ipython",
    "version": 2
   },
   "file_extension": ".py",
   "mimetype": "text/x-python",
   "name": "python",
   "nbconvert_exporter": "python",
   "pygments_lexer": "ipython2",
   "version": "2.7.6"
  }
 },
 "nbformat": 4,
 "nbformat_minor": 0
}
