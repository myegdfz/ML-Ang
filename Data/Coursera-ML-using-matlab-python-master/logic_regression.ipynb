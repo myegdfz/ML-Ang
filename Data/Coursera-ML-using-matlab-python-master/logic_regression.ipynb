{
 "cells": [
  {
   "cell_type": "code",
   "execution_count": 5,
   "metadata": {
    "collapsed": true
   },
   "outputs": [
    {
     "name": "stdout",
     "output_type": "stream",
     "text": [
      "(100L, 3L)\n[[ 34.62365962  78.02469282   0.        ]\n [ 30.28671077  43.89499752   0.        ]\n [ 35.84740877  72.90219803   0.        ]\n [ 60.18259939  86.3085521    1.        ]\n [ 79.03273605  75.34437644   1.        ]]\n(100L, 2L)\n(100L, 1L)\n[[ 34.62365962  78.02469282]\n [ 30.28671077  43.89499752]\n [ 35.84740877  72.90219803]\n [ 60.18259939  86.3085521 ]\n [ 79.03273605  75.34437644]]\n[[ 0.]\n [ 0.]\n [ 0.]\n [ 1.]\n [ 1.]]\n"
     ]
    }
   ],
   "source": [
    "#本文是逻辑回归算法实现\n",
    "import numpy as np\n",
    "import matplotlib.pyplot as plt\n",
    "\n",
    "#load data from file导入txt数据\n",
    "def load_data(filename):\n",
    "    data = []\n",
    "    file = open(filename)\n",
    "    for line in file.readlines():\n",
    "        lineArr = line.strip().split(',')\n",
    "        col_num = len(lineArr)\n",
    "        temp = []\n",
    "        for i in xrange(col_num):\n",
    "            temp.append(float(lineArr[i]))\n",
    "        data.append(temp)\n",
    "    return np.array(data)\n",
    "\n",
    "    \n",
    "data = load_data('ex2data1.txt')\n",
    "print data.shape\n",
    "print data[:5]\n",
    "\n",
    "X = data[:,:-1]\n",
    "y = data[:,-1:]\n",
    "print X.shape\n",
    "print y.shape\n",
    "print X[:5]\n",
    "print y[:5]\n",
    "\n"
   ]
  },
  {
   "cell_type": "code",
   "execution_count": 6,
   "metadata": {},
   "outputs": [
    {
     "data": {
      "image/png": "[encoded data removed]",
      "text/plain": [
       "<matplotlib.figure.Figure at 0x80e5e48>"
      ]
     },
     "metadata": {},
     "output_type": "display_data"
    }
   ],
   "source": [
    "#可视化一下数据集\n",
    "import matplotlib.pyplot as plt\n",
    "label0 = np.where(y.ravel() == 0)\n",
    "plt.scatter(X[label0,0],X[label0,1],marker='x',color = 'r',label = 'Not admitted')\n",
    "label1 = np.where(y.ravel() == 1)\n",
    "plt.scatter(X[label1,0],X[label1,1],marker='o',color = 'b',label = 'Admitted')\n",
    "plt.xlabel('Exam 1 score')\n",
    "plt.ylabel('Exam 2 score')\n",
    "plt.legend(loc = 'upper left')\n",
    "plt.show()\n"
   ]
  },
  {
   "cell_type": "code",
   "execution_count": 7,
   "metadata": {},
   "outputs": [
    {
     "name": "stdout",
     "output_type": "stream",
     "text": [
      "compute with w=[0,0,0]\nExpected cost (approx):0.693...\n0.69314718056\nExpected gradients (approx):[-0.1,-12,-11]\n[ -0.1        -12.00921659 -11.26284221]\ncompute with w=[-24,0.2,0.2]\nExpected cost (approx):0.218....\n0.218330193827\nExpected gradients (approx): [0.04,2.566,0.646]\n[ 0.04290299  2.56623412  2.64679737]\n"
     ]
    }
   ],
   "source": [
    "#compute the cost计算cost以及梯度gradient\n",
    "def sigmoid(x):\n",
    "    return 1 / (1+np.exp(-x))\n",
    "def out(x,w):\n",
    "    return sigmoid(np.dot(x,w))\n",
    "def compute_cost(X_train,y_train,theta):\n",
    "    m = X_train.shape[0]\n",
    "    J = 0\n",
    "    theta = theta.reshape(-1,1)\n",
    "    grad = np.zeros((X_train.shape[1],1))\n",
    "    h = out(X_train,theta)\n",
    "    J = -1*np.sum(y_train*np.log(h) + (1-y_train)*np.log((1-h))) / m\n",
    "    grad = X_train.T.dot((h-y_train)) / m\n",
    "    grad = grad.ravel()\n",
    "    \n",
    "    return J,grad\n",
    "\n",
    "#test the grad，用简单的数值测试一下，编写的代码是否计算正确\n",
    "m = X.shape[0]\n",
    "one = np.ones((m,1))\n",
    "X = np.hstack((one,data[:,:-1]))\n",
    "W = np.zeros((X.shape[1],1))\n",
    "\n",
    "cost,grad = compute_cost(X,y,W)\n",
    "print 'compute with w=[0,0,0]'\n",
    "print 'Expected cost (approx):0.693...'\n",
    "print cost\n",
    "print 'Expected gradients (approx):[-0.1,-12,-11]'\n",
    "print grad\n",
    "\n",
    "cost1,grad1 = compute_cost(X,y,np.array([[-24],[0.2],[0.2]]))\n",
    "print 'compute with w=[-24,0.2,0.2]'\n",
    "print 'Expected cost (approx):0.218....'\n",
    "print cost1\n",
    "print 'Expected gradients (approx): [0.04,2.566,0.646]'\n",
    "print grad1\n"
   ]
  },
  {
   "cell_type": "code",
   "execution_count": 8,
   "metadata": {},
   "outputs": [
    {
     "name": "stdout",
     "output_type": "stream",
     "text": [
      "Warning: Desired error not necessarily achieved due to precision loss.\n         Current function value: 0.203530\n         Iterations: 38\n         Function evaluations: 96\n         Gradient evaluations: 84\n[-25.56159061   0.20990211   0.20440384]\n"
     ]
    },
    {
     "name": "stderr",
     "output_type": "stream",
     "text": [
      "E:\\Anaconda2\\lib\\site-packages\\ipykernel_launcher.py:12: RuntimeWarning: divide by zero encountered in log\n  if sys.path[0] == '':\nE:\\Anaconda2\\lib\\site-packages\\ipykernel_launcher.py:12: RuntimeWarning: invalid value encountered in multiply\n  if sys.path[0] == '':\n"
     ]
    }
   ],
   "source": [
    "#这里使用了最优算法，不是选择梯度下降法，例如你可以选择BFGS等\n",
    "from scipy import optimize\n",
    "params = np.zeros((X.shape[1],1)).ravel()\n",
    "args = (X,y)\n",
    "\n",
    "def f(params,*args):\n",
    "    X_train,y_train = args\n",
    "    m,n = X_train.shape\n",
    "    J = 0\n",
    "    theta = params.reshape((n,1))\n",
    "    h = out(X_train,theta)\n",
    "    J = -1*np.sum(y_train*np.log(h) + (1-y_train)*np.log((1-h))) / m\n",
    "    \n",
    "    return J\n",
    "\n",
    "def gradf(params,*args):\n",
    "    X_train,y_train = args\n",
    "    m,n = X_train.shape\n",
    "    theta = params.reshape(-1,1)\n",
    "    h = out(X_train,theta)\n",
    "    grad = np.zeros((X_train.shape[1],1))\n",
    "    grad = X_train.T.dot((h-y_train)) / m\n",
    "    g = grad.ravel()\n",
    "    return g\n",
    "\n",
    "#res = optimize.minimize(f,x0=init_theta,args=args,method='BFGS',jac=gradf,\\\n",
    "#                        options={'gtol': 1e-6, 'disp': True})\n",
    "res = optimize.fmin_cg(f,x0=params,fprime=gradf,args=args,maxiter=500)\n",
    "print res\n",
    "\n",
    "\n"
   ]
  },
  {
   "cell_type": "code",
   "execution_count": 9,
   "metadata": {},
   "outputs": [
    {
     "data": {
      "image/png": "[encoded data removed]",
      "text/plain": [
       "<matplotlib.figure.Figure at 0x80b7860>"
      ]
     },
     "metadata": {},
     "output_type": "display_data"
    }
   ],
   "source": [
    "#可视化一下线性的决策边界\n",
    "label = np.array(y)\n",
    "index_0 = np.where(label.ravel()==0)\n",
    "plt.scatter(X[index_0,1],X[index_0,2],marker='x'\\\n",
    "            ,color = 'b',label = 'Not admitted',s = 15)\n",
    "index_1 =np.where(label.ravel()==1)\n",
    "plt.scatter(X[index_1,1],X[index_1,2],marker='o',\\\n",
    "            color = 'r',label = 'Admitted',s = 15)\n",
    "\n",
    "#show the decision boundary\n",
    "x1 = np.arange(20,100,0.5)\n",
    "x2 = (- res[0] - res[1]*x1) / res[2]\n",
    "plt.plot(x1,x2,color = 'black')\n",
    "plt.xlabel('X1')\n",
    "plt.ylabel('X2')\n",
    "plt.legend(loc = 'upper left')\n",
    "plt.show()\n"
   ]
  },
  {
   "cell_type": "code",
   "execution_count": 10,
   "metadata": {},
   "outputs": [
    {
     "name": "stdout",
     "output_type": "stream",
     "text": [
      "For a student with scores 45 and 85, we predict an admission \nExpected value: 0.775 +/- 0.002\n[ 0.77873864]\nExpected accuracy (approx): 89.0\n0.89\n"
     ]
    }
   ],
   "source": [
    "#预测函数\n",
    "def predict(X,theta):\n",
    "    h = out(X,theta)\n",
    "    y_pred = np.where(h>=0.5,1.0,0)\n",
    "    \n",
    "    return y_pred \n",
    "\n",
    "#test\n",
    "prob = out(np.array([[1,45,85]]),res)\n",
    "print \"For a student with scores 45 and \\\n",
    "85, we predict an admission \"\n",
    "print \"Expected value: 0.775 +/- 0.002\"\n",
    "\n",
    "print prob\n",
    "\n",
    "p = predict(X,res)\n",
    "print \"Expected accuracy (approx): 89.0\"\n",
    "print np.mean(p==y.ravel())\n",
    "    "
   ]
  },
  {
   "cell_type": "code",
   "execution_count": 11,
   "metadata": {},
   "outputs": [],
   "source": [
    "#下面是自己整理的逻辑回归类，所以，如果想写的规范，也可以自己整理成class\n",
    "import numpy as np\n",
    "\n",
    "class logistic(object):\n",
    "    def __init__(self):\n",
    "        self.W = None\n",
    "    def train(self,X,y,learn_rate = 0.01,num_iters = 2000):\n",
    "        num_train,num_feature = X.shape\n",
    "        #init the weight\n",
    "        self.W = 0.001*np.random.randn(num_feature,1).reshape((-1,1))\n",
    "        loss = []\n",
    "        \n",
    "        for i in range(num_iters):\n",
    "            error,dW = self.compute_loss(X,y)\n",
    "            self.W += -learn_rate*dW\n",
    "            \n",
    "            loss.append(error)\n",
    "            if i%200==0:\n",
    "                print 'i=%d,error=%f' %(i,error)\n",
    "        return loss\n",
    "    \n",
    "    def compute_loss(self,X,y):\n",
    "        num_train = X.shape[0]\n",
    "        h = self.output(X)\n",
    "        loss = -np.sum((y*np.log(h) + (1-y)*np.log((1-h))))\n",
    "        loss = loss / num_train\n",
    "        \n",
    "        dW = X.T.dot((h-y)) / num_train\n",
    "    \n",
    "        return loss,dW\n",
    "    \n",
    "    def output(self,X):\n",
    "        g = np.dot(X,self.W)\n",
    "        return self.sigmod(g)\n",
    "    def sigmod(self,X):\n",
    "        return 1/(1+np.exp(-X))\n",
    "    \n",
    "    def predict(self,X_test):\n",
    "        h = self.output(X_test)\n",
    "        y_pred = np.where(h>=0.5,1,0)\n",
    "        return y_pred\n",
    "    \n"
   ]
  },
  {
   "cell_type": "code",
   "execution_count": 12,
   "metadata": {},
   "outputs": [
    {
     "name": "stdout",
     "output_type": "stream",
     "text": [
      "[[ 5.1  1.4]\n [ 4.9  1.4]\n [ 4.7  1.3]\n [ 4.6  1.5]\n [ 5.   1.4]]\n[1 1 1 1 1]\n"
     ]
    },
    {
     "data": {
      "image/png": "[encoded data removed]",
      "text/plain": [
       "<matplotlib.figure.Figure at 0x8e86630>"
      ]
     },
     "metadata": {},
     "output_type": "display_data"
    }
   ],
   "source": [
    "#用iris数据集去测试\n",
    "from sklearn.datasets import load_iris\n",
    "import matplotlib.pyplot as plt\n",
    "import numpy as np\n",
    "\n",
    "iris = load_iris()\n",
    "data = iris.data\n",
    "target = iris.target\n",
    "#print data[:10]\n",
    "#print target[10:]\n",
    "X = data[0:100,[0,2]]\n",
    "y = target[0:100]\n",
    "print X[:5]\n",
    "print y[-5:]\n",
    "label = np.array(y)\n",
    "index_0 = np.where(label.ravel()==0)\n",
    "plt.scatter(X[index_0,0],X[index_0,1],marker='x',color = 'b',label = '0',s = 15)\n",
    "index_1 =np.where(label.ravel()==1)\n",
    "plt.scatter(X[index_1,0],X[index_1,1],marker='o',color = 'r',label = '1',s = 15)\n",
    "\n",
    "plt.xlabel('X1')\n",
    "plt.ylabel('X2')\n",
    "plt.legend(loc = 'upper left')\n",
    "plt.show()\n",
    "\n"
   ]
  },
  {
   "cell_type": "code",
   "execution_count": 13,
   "metadata": {},
   "outputs": [
    {
     "name": "stdout",
     "output_type": "stream",
     "text": [
      "i=0,error=0.691406\ni=200,error=0.363361\ni=400,error=0.237585\ni=600,error=0.174747\ni=800,error=0.137928\ni=1000,error=0.113953\ni=1200,error=0.097163\ni=1400,error=0.084771\ni=1600,error=0.075254\ni=1800,error=0.067719\n[[-0.46036069]\n [-1.19601995]\n [ 2.53615251]]\n"
     ]
    },
    {
     "data": {
      "image/png": "[encoded data removed]",
      "text/plain": [
       "<matplotlib.figure.Figure at 0x80c1f60>"
      ]
     },
     "metadata": {},
     "output_type": "display_data"
    }
   ],
   "source": [
    "#观察并且可视化一下训练过程\n",
    "import matplotlib.pyplot as plt\n",
    "\n",
    "y = y.reshape((-1,1)) #有时候经常需要reshape,我建议多用，避免不必要的bug\n",
    "#add the x0=1\n",
    "one = np.ones((X.shape[0],1))\n",
    "X_train = np.hstack((one,X))\n",
    "classify = logistic()\n",
    "loss = classify.train(X_train,y)\n",
    "print classify.W\n",
    "\n",
    "plt.plot(loss)\n",
    "plt.xlabel('Iteration number')\n",
    "plt.ylabel('Loss value')\n",
    "\n",
    "\n",
    "plt.show()"
   ]
  },
  {
   "cell_type": "code",
   "execution_count": 14,
   "metadata": {},
   "outputs": [
    {
     "data": {
      "image/png": "[encoded data removed]",
      "text/plain": [
       "<matplotlib.figure.Figure at 0x8fad278>"
      ]
     },
     "metadata": {},
     "output_type": "display_data"
    }
   ],
   "source": [
    "#可视化一下决策边界\n",
    "label = np.array(y)\n",
    "index_0 = np.where(label.ravel()==0)\n",
    "plt.scatter(X[index_0,0],X[index_0,1],marker='x',color = 'b',label = '0',s = 15)\n",
    "index_1 =np.where(label.ravel()==1)\n",
    "plt.scatter(X[index_1,0],X[index_1,1],marker='o',color = 'r',label = '1',s = 15)\n",
    "\n",
    "#show the decision boundary\n",
    "x1 = np.arange(4,7.5,0.5)\n",
    "x2 = (- classify.W[0] - classify.W[1]*x1) / classify.W[2]\n",
    "plt.plot(x1,x2,color = 'black')\n",
    "plt.xlabel('X1')\n",
    "plt.ylabel('X2')\n",
    "plt.legend(loc = 'upper left')\n",
    "plt.show()"
   ]
  },
  {
   "cell_type": "code",
   "execution_count": null,
   "metadata": {},
   "outputs": [],
   "source": []
  }
 ],
 "metadata": {
  "kernelspec": {
   "display_name": "Python 2",
   "language": "python",
   "name": "python2"
  },
  "language_info": {
   "codemirror_mode": {
    "name": "ipython",
    "version": 2
   },
   "file_extension": ".py",
   "mimetype": "text/x-python",
   "name": "python",
   "nbconvert_exporter": "python",
   "pygments_lexer": "ipython2",
   "version": "2.7.6"
  }
 },
 "nbformat": 4,
 "nbformat_minor": 0
}
