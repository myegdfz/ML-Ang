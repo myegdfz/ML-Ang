{
 "cells": [
  {
   "cell_type": "code",
   "execution_count": 2,
   "metadata": {
    "collapsed": true
   },
   "outputs": [
    {
     "name": "stdout",
     "output_type": "stream",
     "text": [
      "['images', 'data', 'target_names', 'DESCR', 'target']\n(1797L, 64L)\n(1797L,)\nthe images 15 is 5\n"
     ]
    }
   ],
   "source": [
    "#本文是onevsall多分类器的实现\n",
    "#load the datasets 导入手写字体数据集\n",
    "from sklearn.datasets import load_digits\n",
    "import numpy as np\n",
    "import matplotlib.pyplot as plt\n",
    "\n",
    "digits = load_digits()\n",
    "print digits.keys()\n",
    "data = digits.data\n",
    "target = digits.target\n",
    "\n",
    "print data.shape\n",
    "print target.shape\n",
    "print \"the images 15 is\",target[15]"
   ]
  },
  {
   "cell_type": "code",
   "execution_count": 3,
   "metadata": {},
   "outputs": [
    {
     "data": {
      "image/png": "[encoded data removed]",
      "text/plain": [
       "<matplotlib.figure.Figure at 0x9e6b6d8>"
      ]
     },
     "metadata": {},
     "output_type": "display_data"
    }
   ],
   "source": [
    "#Randomly select 50 data points to display\n",
    "classes = ['0', '1', '2', '3', '4', '5', '6', '7', '8', '9']\n",
    "num_classes = len(classes)\n",
    "samples_per_class = 5\n",
    "for y, cla in enumerate(classes):\n",
    "    idxs = np.flatnonzero(target == y)\n",
    "    idxs = np.random.choice(idxs, samples_per_class, replace=False)\n",
    "    for i, idx in enumerate(idxs):\n",
    "        plt_idx = i * num_classes + y + 1\n",
    "        plt.subplot(samples_per_class, num_classes, plt_idx)\n",
    "        plt.imshow(digits.images[idx].astype('uint8'))\n",
    "        plt.axis('off')\n",
    "        if i == 0:\n",
    "            plt.title(cla)\n",
    "plt.show()"
   ]
  },
  {
   "cell_type": "code",
   "execution_count": 4,
   "metadata": {},
   "outputs": [],
   "source": [
    "#regularized logistic,基本跟正则化用于逻辑回归原理一样，只是为了使用\n",
    "#优化算法，我稍微改写了cost函数和gradient函数,分别为f(),gradf()\n",
    "def sigmoid(x):\n",
    "    return 1 / (1+np.exp(-x))\n",
    "def out(x,w):\n",
    "    return sigmoid(np.dot(x,w))\n",
    "\n",
    "def f(params,*args):\n",
    "    X_train,y_train,reg = args\n",
    "    m,n = X_train.shape\n",
    "    J = 0\n",
    "    theta = params.reshape((n,1))\n",
    "    h = out(X_train,theta)\n",
    "    theta_1 = theta[1:,:]\n",
    "    J = -1*np.sum(y_train*np.log(h) + (1-y_train)*np.log((1-h))) / m +\\\n",
    "        + 0.5 * reg * theta_1.T.dot(theta_1) / m\n",
    "    \n",
    "    return J\n",
    "\n",
    "def gradf(params,*args):\n",
    "    X_train,y_train,reg = args\n",
    "    m,n = X_train.shape\n",
    "    theta = params.reshape(-1,1)\n",
    "    h = out(X_train,theta)\n",
    "    grad = np.zeros((X_train.shape[1],1))\n",
    "    theta_1 = theta[1:,:]\n",
    "    grad = X_train.T.dot((h-y_train)) / m\n",
    "    grad[1:,:] += reg*theta_1/m  #theta0 without reg\n",
    "    g = grad.ravel()\n",
    "    return g  \n",
    "    "
   ]
  },
  {
   "cell_type": "code",
   "execution_count": 5,
   "metadata": {},
   "outputs": [
    {
     "name": "stdout",
     "output_type": "stream",
     "text": [
      "Optimization terminated successfully.\n         Current function value: 0.000846\n         Iterations: 200\n         Function evaluations: 605\n         Gradient evaluations: 605\n"
     ]
    },
    {
     "name": "stdout",
     "output_type": "stream",
     "text": [
      "Warning: Maximum number of iterations has been exceeded.\n         Current function value: 0.016554\n         Iterations: 500\n         Function evaluations: 763\n         Gradient evaluations: 763\n"
     ]
    },
    {
     "name": "stdout",
     "output_type": "stream",
     "text": [
      "Optimization terminated successfully.\n         Current function value: 0.001304\n         Iterations: 224\n         Function evaluations: 634\n         Gradient evaluations: 634\n"
     ]
    },
    {
     "name": "stdout",
     "output_type": "stream",
     "text": [
      "Warning: Maximum number of iterations has been exceeded.\n         Current function value: 0.014488\n         Iterations: 500\n         Function evaluations: 943\n         Gradient evaluations: 943\n"
     ]
    },
    {
     "name": "stdout",
     "output_type": "stream",
     "text": [
      "Optimization terminated successfully.\n         Current function value: 0.001747\n         Iterations: 366\n         Function evaluations: 994\n         Gradient evaluations: 994\n"
     ]
    },
    {
     "name": "stdout",
     "output_type": "stream",
     "text": [
      "Optimization terminated successfully.\n         Current function value: 0.003441\n         Iterations: 319\n         Function evaluations: 788\n         Gradient evaluations: 788\n"
     ]
    },
    {
     "name": "stdout",
     "output_type": "stream",
     "text": [
      "Warning: Maximum number of iterations has been exceeded.\n         Current function value: 0.002328\n         Iterations: 500\n         Function evaluations: 1258\n         Gradient evaluations: 1258\n"
     ]
    },
    {
     "name": "stdout",
     "output_type": "stream",
     "text": [
      "Warning: Maximum number of iterations has been exceeded.\n         Current function value: 0.002955\n         Iterations: 500\n         Function evaluations: 1244\n         Gradient evaluations: 1244\n"
     ]
    },
    {
     "name": "stdout",
     "output_type": "stream",
     "text": [
      "Optimization terminated successfully.\n         Current function value: 0.068728\n         Iterations: 489\n         Function evaluations: 709\n         Gradient evaluations: 709\n"
     ]
    },
    {
     "name": "stdout",
     "output_type": "stream",
     "text": [
      "Warning: Maximum number of iterations has been exceeded.\n         Current function value: 0.018580\n         Iterations: 500\n         Function evaluations: 818\n         Gradient evaluations: 818\n(65L, 10L)\n"
     ]
    }
   ],
   "source": [
    "from scipy import optimize\n",
    "\n",
    "\n",
    "def oneVsAll(x,y,num_class,reg):\n",
    "    m,n = x.shape\n",
    "    thetas = np.zeros((n,num_class))\n",
    "    #每次只训练一个分类器，就相当于，y==i时，是1，其他等于0\n",
    "    for i in xrange(num_class):\n",
    "        params = np.zeros((x.shape[1],1)).ravel()\n",
    "        #yy = np.zeros(y.shape)\n",
    "        #yy[y==i] = 1\n",
    "        args = (x,y==i,reg)\n",
    "        #使用优化算法去训练\n",
    "        res = optimize.fmin_cg(f,x0=params,fprime=gradf,args=args,maxiter=500)\n",
    "        thetas[:,i] = res\n",
    "    \n",
    "    return thetas\n",
    "\n",
    "\n",
    "X = data\n",
    "y = target\n",
    "y = y.reshape((-1,1))\n",
    "#normalized\n",
    "X_mean = np.mean(X,axis=0)\n",
    "X -= X_mean\n",
    "m = X.shape[0]\n",
    "X = np.hstack((np.ones((m,1)),X)) #add the one\n",
    "\n",
    "thetas = oneVsAll(X,y,10,1.0)\n",
    "print thetas.shape\n"
   ]
  },
  {
   "cell_type": "code",
   "execution_count": 6,
   "metadata": {},
   "outputs": [
    {
     "name": "stdout",
     "output_type": "stream",
     "text": [
      "train accuracy is : 0.997774067891\n"
     ]
    }
   ],
   "source": [
    "def predict(x,thetas):\n",
    "    h = out(x,thetas)\n",
    "    a = sigmoid(h)\n",
    "    pred = np.argmax(a,axis=1) #选出数值最大的下标最为分类\n",
    "    return pred\n",
    "y_pred = predict(X,thetas)\n",
    "print \"train accuracy is :\",np.mean(y.ravel() == y_pred)\n",
    "\n",
    "    "
   ]
  },
  {
   "cell_type": "code",
   "execution_count": 7,
   "metadata": {},
   "outputs": [
    {
     "name": "stdout",
     "output_type": "stream",
     "text": [
      "[ 300 1715 1260 1497  307   23  689  999  593  872]\n0 example is number 7,we predict it as 7\n1 example is number 0,we predict it as 0\n2 example is number 3,we predict it as 3\n3 example is number 6,we predict it as 6\n4 example is number 2,we predict it as 2\n5 example is number 3,we predict it as 3\n6 example is number 7,we predict it as 7\n7 example is number 3,we predict it as 3\n8 example is number 2,we predict it as 2\n9 example is number 8,we predict it as 8\n"
     ]
    }
   ],
   "source": [
    "#随机选出几个图片，测试一下，当然，还是在train set上面测试,展示一下训练的效果\n",
    "m,n = data.shape\n",
    "example_size = 10\n",
    "example_index = np.random.choice(m,example_size)\n",
    "print example_index\n",
    "for i, idx in enumerate(example_index):\n",
    "    \n",
    "    print \"%d example is number %d,we predict it as %d\"\\\n",
    "          %(i,target[idx],predict(X[idx,:].reshape(1,-1),thetas))\n",
    "    "
   ]
  },
  {
   "cell_type": "code",
   "execution_count": 8,
   "metadata": {},
   "outputs": [
    {
     "name": "stdout",
     "output_type": "stream",
     "text": [
      "(25L, 401L)\n(10L, 26L)\n(5000L, 400L)\n(5000L, 1L)\n"
     ]
    }
   ],
   "source": [
    "#好吧，我们导入已经有的数据集和权重参数，看一下神经网络的oneVSall预测函数\n",
    "import scipy.io as sio\n",
    "#从mat文件导入数据\n",
    "weight = sio.loadmat(\"ex3weights\")\n",
    "Theta1 = weight[\"Theta1\"]\n",
    "Theta2 = weight[\"Theta2\"]\n",
    "\n",
    "print Theta1.shape\n",
    "print Theta2.shape\n",
    "\n",
    "data = sio.loadmat(\"ex3data1\")\n",
    "X = data[\"X\"]\n",
    "y = data[\"y\"]\n",
    "print X.shape\n",
    "print y.shape"
   ]
  },
  {
   "cell_type": "code",
   "execution_count": 11,
   "metadata": {},
   "outputs": [
    {
     "name": "stdout",
     "output_type": "stream",
     "text": [
      "(5000L, 401L)\n[3 9 9 9 9 9 9 9 9 9]\n[[9]\n [9]\n [9]\n [9]\n [9]\n [9]\n [9]\n [9]\n [9]\n [9]]\ntrain accuracy is : 97.52\n"
     ]
    }
   ],
   "source": [
    "#add one \n",
    "m = X.shape[0]\n",
    "X1 = np.hstack((np.ones((m,1)),X))\n",
    "print X1.shape\n",
    "def nn_predict(x,theta1,theta2):\n",
    "    m = x.shape[0]\n",
    "    a1 = sigmoid(x.dot(theta1.T))\n",
    "    a1 = np.hstack((np.ones((m,1)),a1))\n",
    "    a2 = sigmoid(a1.dot(theta2.T))\n",
    "    pred = np.argmax(a2,axis=1)+1 #这里的数字是1-10，而不是0-9\n",
    "    return pred\n",
    "\n",
    "pred = nn_predict(X1,Theta1,Theta2)\n",
    "print pred[-10:]\n",
    "print y[-10:]\n",
    "print \"train accuracy is :\",np.mean(y == pred.reshape(-1,1))*100"
   ]
  },
  {
   "cell_type": "code",
   "execution_count": 13,
   "metadata": {},
   "outputs": [
    {
     "name": "stdout",
     "output_type": "stream",
     "text": [
      "[1344 4596   67 1430 2270 4117  998 3591    7 1977]\n0 example is number 2,we predict it as 2\n1 example is number 9,we predict it as 9\n2 example is number 10,we predict it as 10\n3 example is number 2,we predict it as 2\n4 example is number 4,we predict it as 4\n5 example is number 8,we predict it as 8\n6 example is number 1,we predict it as 1\n7 example is number 7,we predict it as 7\n8 example is number 10,we predict it as 10\n9 example is number 3,we predict it as 3\n"
     ]
    }
   ],
   "source": [
    "#随机选择样本，测试一下，看看预测的准不准\n",
    "m,n = X1.shape\n",
    "example_size = 10\n",
    "example_index = np.random.choice(m,example_size)\n",
    "print example_index\n",
    "for i, idx in enumerate(example_index):\n",
    "    \n",
    "    print \"%d example is number %d,we predict it as %d\"\\\n",
    "          %(i,y[idx],nn_predict(X1[idx,:].reshape(1,-1),Theta1,Theta2))\n",
    "    "
   ]
  },
  {
   "cell_type": "code",
   "execution_count": null,
   "metadata": {},
   "outputs": [],
   "source": []
  }
 ],
 "metadata": {
  "kernelspec": {
   "display_name": "Python 2",
   "language": "python",
   "name": "python2"
  },
  "language_info": {
   "codemirror_mode": {
    "name": "ipython",
    "version": 2
   },
   "file_extension": ".py",
   "mimetype": "text/x-python",
   "name": "python",
   "nbconvert_exporter": "python",
   "pygments_lexer": "ipython2",
   "version": "2.7.6"
  }
 },
 "nbformat": 4,
 "nbformat_minor": 0
}
