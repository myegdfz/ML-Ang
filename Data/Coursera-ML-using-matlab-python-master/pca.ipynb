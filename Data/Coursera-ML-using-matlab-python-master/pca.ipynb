{
 "cells": [
  {
   "cell_type": "code",
   "execution_count": 1,
   "metadata": {
    "collapsed": true
   },
   "outputs": [
    {
     "name": "stdout",
     "output_type": "stream",
     "text": [
      "(50L, 2L)\n[[ 3.38156267  3.38911268]\n [ 4.52787538  5.8541781 ]\n [ 2.65568187  4.41199472]\n [ 2.76523467  3.71541365]\n [ 2.84656011  4.17550645]]\n"
     ]
    },
    {
     "data": {
      "image/png": "[encoded data removed]",
      "text/plain": [
       "<matplotlib.figure.Figure at 0x86c9da0>"
      ]
     },
     "metadata": {},
     "output_type": "display_data"
    }
   ],
   "source": [
    "#本文是pca降维\n",
    "#load data\n",
    "import scipy.io as sio\n",
    "import numpy as np\n",
    "import matplotlib.pyplot as plt\n",
    "\n",
    "data = sio.loadmat('ex7data1.mat')\n",
    "X = data['X']\n",
    "print X.shape\n",
    "print X[:5]\n",
    "\n",
    "plt.plot(X[:,0],X[:,1],'bo')\n",
    "plt.xlabel('x1')\n",
    "plt.ylabel('x2')\n",
    "plt.show()"
   ]
  },
  {
   "cell_type": "code",
   "execution_count": 2,
   "metadata": {},
   "outputs": [],
   "source": [
    "#feature normalize 特征归一化\n",
    "def featureNormalize(X):\n",
    "    X_norm = X\n",
    "    mu = np.zeros((1,X.shape[1]))\n",
    "    sigma = np.zeros((1,X.shape[1]))\n",
    "    \n",
    "    mu = np.mean(X,axis=0) #mean value of every feature\n",
    "    sigma = np.std(X,axis=0)#std of every feature\n",
    "    X_norm = (X - mu) / sigma\n",
    "    \n",
    "    return X_norm,mu,sigma \n"
   ]
  },
  {
   "cell_type": "code",
   "execution_count": 3,
   "metadata": {},
   "outputs": [],
   "source": [
    "#complete the pca\n",
    "def pca(data_normal):\n",
    "    m,n = data_normal.shape\n",
    "    sigma = data_normal.T.dot(data_normal) / m  #np.cov()\n",
    "    U,S,V = np.linalg.svd(sigma)  #np.linalg.eig()\n",
    "    return U,S,V\n"
   ]
  },
  {
   "cell_type": "code",
   "execution_count": 4,
   "metadata": {},
   "outputs": [
    {
     "name": "stdout",
     "output_type": "stream",
     "text": [
      "you should expect to see -0.707107 -0.707107)\n\n-0.707106781187 -0.707106781187\n"
     ]
    }
   ],
   "source": [
    "X_norm,mu,sigma = featureNormalize(X)\n",
    "U,S,V = pca(X_norm)\n",
    "print \"you should expect to see -0.707107 -0.707107)\\n\"\n",
    "print U[0,0],U[1,0]\n",
    "\n"
   ]
  },
  {
   "cell_type": "code",
   "execution_count": 5,
   "metadata": {},
   "outputs": [
    {
     "data": {
      "image/png": "[encoded data removed]",
      "text/plain": [
       "<matplotlib.figure.Figure at 0x583f278>"
      ]
     },
     "metadata": {},
     "output_type": "display_data"
    }
   ],
   "source": [
    "plt.plot(X_norm[:,0],X_norm[:,1],'bo')\n",
    "plt.xlabel('x1')\n",
    "plt.ylabel('x2')\n",
    "plt.show()\n"
   ]
  },
  {
   "cell_type": "code",
   "execution_count": 6,
   "metadata": {},
   "outputs": [],
   "source": [
    "#降维2->1\n",
    "def projectData(x,u,k):\n",
    "    z = np.zeros((x.shape[0],k))\n",
    "    u_reduce = u[:,:k] #get the first k line\n",
    "    z = x.dot(u_reduce) #[m,n]*[n,k] = [m,k]\n",
    "    return z\n",
    "#还原 1-->2\n",
    "def recoverData(z,u,k):\n",
    "    x_rec = np.zeros((z.shape[0],u.shape[0]))\n",
    "    u_reduce = u[:,:k]\n",
    "    x_rec = z.dot(u_reduce.T) #[m,k]*[k,n] = [m,n]\n",
    "    return x_rec\n",
    "\n",
    "    \n",
    "    "
   ]
  },
  {
   "cell_type": "code",
   "execution_count": 7,
   "metadata": {},
   "outputs": [
    {
     "name": "stdout",
     "output_type": "stream",
     "text": [
      "(this value should be about 1.481274)\n[ 1.49631261]\n(this value should be about  -1.047419 -1.047419)\n-1.05805279222 -1.05805279222\n"
     ]
    }
   ],
   "source": [
    "Z = projectData(X_norm,U,k=1)  #n-->k\n",
    "print \"(this value should be about 1.481274)\"\n",
    "print Z[0]\n",
    "X_rec = recoverData(Z,U,k=1) # get back k--->n\n",
    "print \"(this value should be about  -1.047419 -1.047419)\"\n",
    "print X_rec[0,0],X_rec[0,1]\n",
    "\n",
    "\n"
   ]
  },
  {
   "cell_type": "code",
   "execution_count": 8,
   "metadata": {},
   "outputs": [
    {
     "data": {
      "image/png": "[encoded data removed]",
      "text/plain": [
       "<matplotlib.figure.Figure at 0x998afd0>"
      ]
     },
     "metadata": {},
     "output_type": "display_data"
    }
   ],
   "source": [
    "#可视化一下\n",
    "plt.plot(X_norm[:,0],X_norm[:,1],'bo')\n",
    "plt.plot(X_rec[:,0],X_rec[:,1],'rx')\n",
    "plt.xlabel('x1')\n",
    "plt.ylabel('x2')\n",
    "plt.show()\n",
    "\n"
   ]
  },
  {
   "cell_type": "code",
   "execution_count": null,
   "metadata": {},
   "outputs": [],
   "source": [
    "\n"
   ]
  }
 ],
 "metadata": {
  "kernelspec": {
   "display_name": "Python 2",
   "language": "python",
   "name": "python2"
  },
  "language_info": {
   "codemirror_mode": {
    "name": "ipython",
    "version": 2
   },
   "file_extension": ".py",
   "mimetype": "text/x-python",
   "name": "python",
   "nbconvert_exporter": "python",
   "pygments_lexer": "ipython2",
   "version": "2.7.6"
  }
 },
 "nbformat": 4,
 "nbformat_minor": 0
}
